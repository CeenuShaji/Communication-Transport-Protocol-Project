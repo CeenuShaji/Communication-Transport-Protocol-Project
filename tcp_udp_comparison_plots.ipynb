{
 "cells": [
  {
   "cell_type": "code",
   "execution_count": 3,
   "id": "68493e84",
   "metadata": {},
   "outputs": [
    {
     "data": {
      "image/png": "[encoded data removed]",
      "text/plain": [
       "<Figure size 864x432 with 1 Axes>"
      ]
     },
     "metadata": {
      "needs_background": "light"
     },
     "output_type": "display_data"
    },
    {
     "data": {
      "text/plain": [
       "'bandwidth_comparison.png'"
      ]
     },
     "execution_count": 3,
     "metadata": {},
     "output_type": "execute_result"
    }
   ],
   "source": [
    "import pandas as pd\n",
    "import matplotlib.pyplot as plt\n",
    "\n",
    "# Load the TCP and UDP test results\n",
    "tcp_results_path = 'tcp_test_mesh1.txt'\n",
    "udp_results_path = 'udp_test_mesh1.txt'\n",
    "\n",
    "# We'll define a function to parse the iperf output files\n",
    "def parse_iperf(filepath):\n",
    "    with open(filepath, 'r') as file:\n",
    "        lines = file.readlines()\n",
    "\n",
    "    # Initialize empty list to store time and bandwidth pairs\n",
    "    time_bandwidth = []\n",
    "\n",
    "    # Process lines\n",
    "    for line in lines:\n",
    "        # Skip lines that don't start with a bracket since we want to ignore the headers and summaries\n",
    "        if not line.startswith('['):\n",
    "            continue\n",
    "\n",
    "        # Split the line into words\n",
    "        parts = line.split()\n",
    "\n",
    "        # Extract time and bandwidth (assuming that the format is consistent and correct)\n",
    "        # For TCP, the bandwidth is the 7th word on interval lines\n",
    "        # For UDP, the bandwidth is the 6th word on interval lines\n",
    "        try:\n",
    "            # Extract time interval (e.g., \"0.0-2.0\" becomes \"1\" for the midpoint of the interval)\n",
    "            interval = parts[3]\n",
    "            start, end = interval.split('-')\n",
    "            midpoint = (float(start) + float(end)) / 2\n",
    "            bandwidth = float(parts[6])  # Assuming the 7th word is the bandwidth for TCP, convert to Gbps\n",
    "            time_bandwidth.append((midpoint, bandwidth))\n",
    "        except (ValueError, IndexError):\n",
    "            # If parsing fails, skip the line\n",
    "            continue\n",
    "\n",
    "    # Create a DataFrame from the parsed data\n",
    "    return pd.DataFrame(time_bandwidth, columns=['Time', 'Bandwidth'])\n",
    "\n",
    "# Parse the result files\n",
    "tcp_df = parse_iperf(tcp_results_path)\n",
    "udp_df = parse_iperf(udp_results_path)\n",
    "\n",
    "# Plot the results\n",
    "plt.figure(figsize=(12, 6))\n",
    "plt.plot(tcp_df['Time'], tcp_df['Bandwidth'], label='TCP Bandwidth (Gbps)', marker='o')\n",
    "plt.plot(udp_df['Time'], udp_df['Bandwidth'], label='UDP Bandwidth (Gbps)', marker='x')\n",
    "\n",
    "# Add titles and labels\n",
    "plt.title('TCP vs UDP Bandwidth Over Time')\n",
    "plt.xlabel('Time (seconds)')\n",
    "plt.ylabel('Bandwidth (Gbps)')\n",
    "plt.legend()\n",
    "plt.grid(True)\n",
    "plt.tight_layout()\n",
    "\n",
    "# Save the plot as a PNG file\n",
    "output_file = 'bandwidth_comparison.png'\n",
    "plt.savefig(output_file)\n",
    "\n",
    "# Show the plot\n",
    "plt.show()\n",
    "\n",
    "# Return the path to the saved plot file\n",
    "output_file\n"
   ]
  },
  {
   "cell_type": "code",
   "execution_count": null,
   "id": "cde1a223",
   "metadata": {},
   "outputs": [],
   "source": []
  }
 ],
 "metadata": {
  "kernelspec": {
   "display_name": "Python 3 (ipykernel)",
   "language": "python",
   "name": "python3"
  },
  "language_info": {
   "codemirror_mode": {
    "name": "ipython",
    "version": 3
   },
   "file_extension": ".py",
   "mimetype": "text/x-python",
   "name": "python",
   "nbconvert_exporter": "python",
   "pygments_lexer": "ipython3",
   "version": "3.9.12"
  }
 },
 "nbformat": 4,
 "nbformat_minor": 5
}
